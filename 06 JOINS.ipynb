{
 "cells": [
  {
   "cell_type": "code",
   "execution_count": 3,
   "metadata": {},
   "outputs": [],
   "source": [
    "import sqlite3\n",
    "import pandas as pd"
   ]
  },
  {
   "cell_type": "code",
   "execution_count": 4,
   "metadata": {},
   "outputs": [],
   "source": [
    "def db_interact(query):\n",
    "    return pd.read_sql_query(query,db)"
   ]
  },
  {
   "cell_type": "code",
   "execution_count": 5,
   "metadata": {},
   "outputs": [],
   "source": [
    "db = sqlite3.connect('data/hubway.db')"
   ]
  },
  {
   "cell_type": "markdown",
   "metadata": {},
   "source": [
    "## JOINS\n",
    "\n",
    "Combine information across multiple tables"
   ]
  },
  {
   "cell_type": "code",
   "execution_count": 16,
   "metadata": {},
   "outputs": [],
   "source": [
    "query = \"\"\"\n",
    "SELECT bike_number, stations.station\n",
    "FROM trips\n",
    "JOIN stations \n",
    "ON trips.start_station = stations.id\n",
    "WHERE zip_code = \"'02109\"\n",
    "LIMIT 10\n",
    "\"\"\""
   ]
  },
  {
   "cell_type": "code",
   "execution_count": 17,
   "metadata": {},
   "outputs": [
    {
     "data": {
      "text/html": [
       "<div>\n",
       "<style scoped>\n",
       "    .dataframe tbody tr th:only-of-type {\n",
       "        vertical-align: middle;\n",
       "    }\n",
       "\n",
       "    .dataframe tbody tr th {\n",
       "        vertical-align: top;\n",
       "    }\n",
       "\n",
       "    .dataframe thead th {\n",
       "        text-align: right;\n",
       "    }\n",
       "</style>\n",
       "<table border=\"1\" class=\"dataframe\">\n",
       "  <thead>\n",
       "    <tr style=\"text-align: right;\">\n",
       "      <th></th>\n",
       "      <th>bike_number</th>\n",
       "      <th>station</th>\n",
       "    </tr>\n",
       "  </thead>\n",
       "  <tbody>\n",
       "    <tr>\n",
       "      <th>0</th>\n",
       "      <td>B00190</td>\n",
       "      <td>Colleges of the Fenway</td>\n",
       "    </tr>\n",
       "    <tr>\n",
       "      <th>1</th>\n",
       "      <td>B00275</td>\n",
       "      <td>South Station - 700 Atlantic Ave.</td>\n",
       "    </tr>\n",
       "    <tr>\n",
       "      <th>2</th>\n",
       "      <td>B00480</td>\n",
       "      <td>Lewis Wharf - Atlantic Ave.</td>\n",
       "    </tr>\n",
       "    <tr>\n",
       "      <th>3</th>\n",
       "      <td>B00552</td>\n",
       "      <td>Lewis Wharf - Atlantic Ave.</td>\n",
       "    </tr>\n",
       "    <tr>\n",
       "      <th>4</th>\n",
       "      <td>B00128</td>\n",
       "      <td>Summer St. / Arch St.</td>\n",
       "    </tr>\n",
       "    <tr>\n",
       "      <th>5</th>\n",
       "      <td>B00408</td>\n",
       "      <td>Cross St. at Hanover St.</td>\n",
       "    </tr>\n",
       "    <tr>\n",
       "      <th>6</th>\n",
       "      <td>B00486</td>\n",
       "      <td>Boston Public Library - 700 Boylston St.</td>\n",
       "    </tr>\n",
       "    <tr>\n",
       "      <th>7</th>\n",
       "      <td>B00486</td>\n",
       "      <td>Prudential Center / Belvidere</td>\n",
       "    </tr>\n",
       "    <tr>\n",
       "      <th>8</th>\n",
       "      <td>B00216</td>\n",
       "      <td>HMS / HSPH - Ave. Louis Pasteur at Longwood Ave.</td>\n",
       "    </tr>\n",
       "    <tr>\n",
       "      <th>9</th>\n",
       "      <td>B00216</td>\n",
       "      <td>Landmark Centre</td>\n",
       "    </tr>\n",
       "  </tbody>\n",
       "</table>\n",
       "</div>"
      ],
      "text/plain": [
       "  bike_number                                           station\n",
       "0      B00190                            Colleges of the Fenway\n",
       "1      B00275                 South Station - 700 Atlantic Ave.\n",
       "2      B00480                       Lewis Wharf - Atlantic Ave.\n",
       "3      B00552                       Lewis Wharf - Atlantic Ave.\n",
       "4      B00128                             Summer St. / Arch St.\n",
       "5      B00408                          Cross St. at Hanover St.\n",
       "6      B00486          Boston Public Library - 700 Boylston St.\n",
       "7      B00486                     Prudential Center / Belvidere\n",
       "8      B00216  HMS / HSPH - Ave. Louis Pasteur at Longwood Ave.\n",
       "9      B00216                                   Landmark Centre"
      ]
     },
     "execution_count": 17,
     "metadata": {},
     "output_type": "execute_result"
    }
   ],
   "source": [
    "db_interact(query)"
   ]
  },
  {
   "cell_type": "code",
   "execution_count": 20,
   "metadata": {},
   "outputs": [],
   "source": [
    "query = \"\"\"\n",
    "SELECT t.bike_number, s.station\n",
    "FROM trips AS t\n",
    "JOIN stations AS s\n",
    "ON t.start_station = s.id\n",
    "WHERE t.zip_code = \"'02109\"\n",
    "LIMIT 10\n",
    "\"\"\""
   ]
  },
  {
   "cell_type": "code",
   "execution_count": 19,
   "metadata": {},
   "outputs": [
    {
     "data": {
      "text/html": [
       "<div>\n",
       "<style scoped>\n",
       "    .dataframe tbody tr th:only-of-type {\n",
       "        vertical-align: middle;\n",
       "    }\n",
       "\n",
       "    .dataframe tbody tr th {\n",
       "        vertical-align: top;\n",
       "    }\n",
       "\n",
       "    .dataframe thead th {\n",
       "        text-align: right;\n",
       "    }\n",
       "</style>\n",
       "<table border=\"1\" class=\"dataframe\">\n",
       "  <thead>\n",
       "    <tr style=\"text-align: right;\">\n",
       "      <th></th>\n",
       "      <th>bike_number</th>\n",
       "      <th>station</th>\n",
       "    </tr>\n",
       "  </thead>\n",
       "  <tbody>\n",
       "    <tr>\n",
       "      <th>0</th>\n",
       "      <td>B00190</td>\n",
       "      <td>Colleges of the Fenway</td>\n",
       "    </tr>\n",
       "    <tr>\n",
       "      <th>1</th>\n",
       "      <td>B00275</td>\n",
       "      <td>South Station - 700 Atlantic Ave.</td>\n",
       "    </tr>\n",
       "    <tr>\n",
       "      <th>2</th>\n",
       "      <td>B00480</td>\n",
       "      <td>Lewis Wharf - Atlantic Ave.</td>\n",
       "    </tr>\n",
       "    <tr>\n",
       "      <th>3</th>\n",
       "      <td>B00552</td>\n",
       "      <td>Lewis Wharf - Atlantic Ave.</td>\n",
       "    </tr>\n",
       "    <tr>\n",
       "      <th>4</th>\n",
       "      <td>B00128</td>\n",
       "      <td>Summer St. / Arch St.</td>\n",
       "    </tr>\n",
       "    <tr>\n",
       "      <th>5</th>\n",
       "      <td>B00408</td>\n",
       "      <td>Cross St. at Hanover St.</td>\n",
       "    </tr>\n",
       "    <tr>\n",
       "      <th>6</th>\n",
       "      <td>B00486</td>\n",
       "      <td>Boston Public Library - 700 Boylston St.</td>\n",
       "    </tr>\n",
       "    <tr>\n",
       "      <th>7</th>\n",
       "      <td>B00486</td>\n",
       "      <td>Prudential Center / Belvidere</td>\n",
       "    </tr>\n",
       "    <tr>\n",
       "      <th>8</th>\n",
       "      <td>B00216</td>\n",
       "      <td>HMS / HSPH - Ave. Louis Pasteur at Longwood Ave.</td>\n",
       "    </tr>\n",
       "    <tr>\n",
       "      <th>9</th>\n",
       "      <td>B00216</td>\n",
       "      <td>Landmark Centre</td>\n",
       "    </tr>\n",
       "  </tbody>\n",
       "</table>\n",
       "</div>"
      ],
      "text/plain": [
       "  bike_number                                           station\n",
       "0      B00190                            Colleges of the Fenway\n",
       "1      B00275                 South Station - 700 Atlantic Ave.\n",
       "2      B00480                       Lewis Wharf - Atlantic Ave.\n",
       "3      B00552                       Lewis Wharf - Atlantic Ave.\n",
       "4      B00128                             Summer St. / Arch St.\n",
       "5      B00408                          Cross St. at Hanover St.\n",
       "6      B00486          Boston Public Library - 700 Boylston St.\n",
       "7      B00486                     Prudential Center / Belvidere\n",
       "8      B00216  HMS / HSPH - Ave. Louis Pasteur at Longwood Ave.\n",
       "9      B00216                                   Landmark Centre"
      ]
     },
     "execution_count": 19,
     "metadata": {},
     "output_type": "execute_result"
    }
   ],
   "source": [
    "db_interact(query)"
   ]
  },
  {
   "cell_type": "markdown",
   "metadata": {},
   "source": [
    "![JOINS](pic/JOINS.png)"
   ]
  },
  {
   "cell_type": "markdown",
   "metadata": {},
   "source": [
    "## LEFT OUTER JOIN"
   ]
  },
  {
   "cell_type": "code",
   "execution_count": 33,
   "metadata": {},
   "outputs": [],
   "source": [
    "query = \"\"\"\n",
    "SELECT t.bike_number, s.station\n",
    "FROM trips AS t\n",
    "\n",
    "LEFT OUTER JOIN stations AS s\n",
    "ON t.start_station = s.id\n",
    "\n",
    "WHERE t.zip_code = \"'02109\"\n",
    "\n",
    "LIMIT 10\n",
    "\"\"\""
   ]
  },
  {
   "cell_type": "code",
   "execution_count": 26,
   "metadata": {},
   "outputs": [
    {
     "data": {
      "text/html": [
       "<div>\n",
       "<style scoped>\n",
       "    .dataframe tbody tr th:only-of-type {\n",
       "        vertical-align: middle;\n",
       "    }\n",
       "\n",
       "    .dataframe tbody tr th {\n",
       "        vertical-align: top;\n",
       "    }\n",
       "\n",
       "    .dataframe thead th {\n",
       "        text-align: right;\n",
       "    }\n",
       "</style>\n",
       "<table border=\"1\" class=\"dataframe\">\n",
       "  <thead>\n",
       "    <tr style=\"text-align: right;\">\n",
       "      <th></th>\n",
       "      <th>bike_number</th>\n",
       "      <th>station</th>\n",
       "    </tr>\n",
       "  </thead>\n",
       "  <tbody>\n",
       "    <tr>\n",
       "      <th>0</th>\n",
       "      <td>B00190</td>\n",
       "      <td>Colleges of the Fenway</td>\n",
       "    </tr>\n",
       "    <tr>\n",
       "      <th>1</th>\n",
       "      <td>B00275</td>\n",
       "      <td>South Station - 700 Atlantic Ave.</td>\n",
       "    </tr>\n",
       "    <tr>\n",
       "      <th>2</th>\n",
       "      <td>B00480</td>\n",
       "      <td>Lewis Wharf - Atlantic Ave.</td>\n",
       "    </tr>\n",
       "    <tr>\n",
       "      <th>3</th>\n",
       "      <td>B00552</td>\n",
       "      <td>Lewis Wharf - Atlantic Ave.</td>\n",
       "    </tr>\n",
       "    <tr>\n",
       "      <th>4</th>\n",
       "      <td>B00128</td>\n",
       "      <td>Summer St. / Arch St.</td>\n",
       "    </tr>\n",
       "    <tr>\n",
       "      <th>5</th>\n",
       "      <td>B00408</td>\n",
       "      <td>Cross St. at Hanover St.</td>\n",
       "    </tr>\n",
       "    <tr>\n",
       "      <th>6</th>\n",
       "      <td>B00486</td>\n",
       "      <td>Boston Public Library - 700 Boylston St.</td>\n",
       "    </tr>\n",
       "    <tr>\n",
       "      <th>7</th>\n",
       "      <td>B00486</td>\n",
       "      <td>Prudential Center / Belvidere</td>\n",
       "    </tr>\n",
       "    <tr>\n",
       "      <th>8</th>\n",
       "      <td>B00216</td>\n",
       "      <td>HMS / HSPH - Ave. Louis Pasteur at Longwood Ave.</td>\n",
       "    </tr>\n",
       "    <tr>\n",
       "      <th>9</th>\n",
       "      <td>B00216</td>\n",
       "      <td>Landmark Centre</td>\n",
       "    </tr>\n",
       "  </tbody>\n",
       "</table>\n",
       "</div>"
      ],
      "text/plain": [
       "  bike_number                                           station\n",
       "0      B00190                            Colleges of the Fenway\n",
       "1      B00275                 South Station - 700 Atlantic Ave.\n",
       "2      B00480                       Lewis Wharf - Atlantic Ave.\n",
       "3      B00552                       Lewis Wharf - Atlantic Ave.\n",
       "4      B00128                             Summer St. / Arch St.\n",
       "5      B00408                          Cross St. at Hanover St.\n",
       "6      B00486          Boston Public Library - 700 Boylston St.\n",
       "7      B00486                     Prudential Center / Belvidere\n",
       "8      B00216  HMS / HSPH - Ave. Louis Pasteur at Longwood Ave.\n",
       "9      B00216                                   Landmark Centre"
      ]
     },
     "execution_count": 26,
     "metadata": {},
     "output_type": "execute_result"
    }
   ],
   "source": [
    "db_interact(query)"
   ]
  },
  {
   "cell_type": "code",
   "execution_count": 40,
   "metadata": {},
   "outputs": [],
   "source": [
    "query = \"\"\"\n",
    "SELECT t.bike_number, s.station\n",
    "FROM trips AS t\n",
    "\n",
    "LEFT OUTER JOIN stations AS s\n",
    "ON t.start_station = s.id\n",
    "\n",
    "WHERE s.station LIKE \"%Pier\"\n",
    "\n",
    "LIMIT 10\n",
    "\"\"\""
   ]
  },
  {
   "cell_type": "code",
   "execution_count": 41,
   "metadata": {},
   "outputs": [
    {
     "data": {
      "text/html": [
       "<div>\n",
       "<style scoped>\n",
       "    .dataframe tbody tr th:only-of-type {\n",
       "        vertical-align: middle;\n",
       "    }\n",
       "\n",
       "    .dataframe tbody tr th {\n",
       "        vertical-align: top;\n",
       "    }\n",
       "\n",
       "    .dataframe thead th {\n",
       "        text-align: right;\n",
       "    }\n",
       "</style>\n",
       "<table border=\"1\" class=\"dataframe\">\n",
       "  <thead>\n",
       "    <tr style=\"text-align: right;\">\n",
       "      <th></th>\n",
       "      <th>bike_number</th>\n",
       "      <th>station</th>\n",
       "    </tr>\n",
       "  </thead>\n",
       "  <tbody>\n",
       "    <tr>\n",
       "      <th>0</th>\n",
       "      <td>B00099</td>\n",
       "      <td>Fan Pier</td>\n",
       "    </tr>\n",
       "    <tr>\n",
       "      <th>1</th>\n",
       "      <td>B00311</td>\n",
       "      <td>Fan Pier</td>\n",
       "    </tr>\n",
       "    <tr>\n",
       "      <th>2</th>\n",
       "      <td>B00515</td>\n",
       "      <td>Fan Pier</td>\n",
       "    </tr>\n",
       "    <tr>\n",
       "      <th>3</th>\n",
       "      <td>B00540</td>\n",
       "      <td>Fan Pier</td>\n",
       "    </tr>\n",
       "    <tr>\n",
       "      <th>4</th>\n",
       "      <td>B00288</td>\n",
       "      <td>Fan Pier</td>\n",
       "    </tr>\n",
       "    <tr>\n",
       "      <th>5</th>\n",
       "      <td>B00422</td>\n",
       "      <td>Fan Pier</td>\n",
       "    </tr>\n",
       "    <tr>\n",
       "      <th>6</th>\n",
       "      <td>B00407</td>\n",
       "      <td>Fan Pier</td>\n",
       "    </tr>\n",
       "    <tr>\n",
       "      <th>7</th>\n",
       "      <td>B00407</td>\n",
       "      <td>Fan Pier</td>\n",
       "    </tr>\n",
       "    <tr>\n",
       "      <th>8</th>\n",
       "      <td>B00422</td>\n",
       "      <td>Fan Pier</td>\n",
       "    </tr>\n",
       "    <tr>\n",
       "      <th>9</th>\n",
       "      <td>B00352</td>\n",
       "      <td>Fan Pier</td>\n",
       "    </tr>\n",
       "  </tbody>\n",
       "</table>\n",
       "</div>"
      ],
      "text/plain": [
       "  bike_number   station\n",
       "0      B00099  Fan Pier\n",
       "1      B00311  Fan Pier\n",
       "2      B00515  Fan Pier\n",
       "3      B00540  Fan Pier\n",
       "4      B00288  Fan Pier\n",
       "5      B00422  Fan Pier\n",
       "6      B00407  Fan Pier\n",
       "7      B00407  Fan Pier\n",
       "8      B00422  Fan Pier\n",
       "9      B00352  Fan Pier"
      ]
     },
     "execution_count": 41,
     "metadata": {},
     "output_type": "execute_result"
    }
   ],
   "source": [
    "db_interact(query)"
   ]
  },
  {
   "cell_type": "markdown",
   "metadata": {},
   "source": [
    "## INNER JOIN"
   ]
  },
  {
   "cell_type": "code",
   "execution_count": 42,
   "metadata": {},
   "outputs": [],
   "source": [
    "query = \"\"\"\n",
    "SELECT t.bike_number, s.station\n",
    "FROM trips AS t\n",
    "\n",
    "INNER JOIN stations AS s\n",
    "ON t.start_station = s.id\n",
    "\n",
    "WHERE s.station LIKE \"%Pier\"\n",
    "\n",
    "LIMIT 10\n",
    "\"\"\""
   ]
  },
  {
   "cell_type": "code",
   "execution_count": 43,
   "metadata": {},
   "outputs": [
    {
     "data": {
      "text/html": [
       "<div>\n",
       "<style scoped>\n",
       "    .dataframe tbody tr th:only-of-type {\n",
       "        vertical-align: middle;\n",
       "    }\n",
       "\n",
       "    .dataframe tbody tr th {\n",
       "        vertical-align: top;\n",
       "    }\n",
       "\n",
       "    .dataframe thead th {\n",
       "        text-align: right;\n",
       "    }\n",
       "</style>\n",
       "<table border=\"1\" class=\"dataframe\">\n",
       "  <thead>\n",
       "    <tr style=\"text-align: right;\">\n",
       "      <th></th>\n",
       "      <th>bike_number</th>\n",
       "      <th>station</th>\n",
       "    </tr>\n",
       "  </thead>\n",
       "  <tbody>\n",
       "    <tr>\n",
       "      <th>0</th>\n",
       "      <td></td>\n",
       "      <td>Fan Pier</td>\n",
       "    </tr>\n",
       "    <tr>\n",
       "      <th>1</th>\n",
       "      <td>A07800</td>\n",
       "      <td>Fan Pier</td>\n",
       "    </tr>\n",
       "    <tr>\n",
       "      <th>2</th>\n",
       "      <td>A07800</td>\n",
       "      <td>Fan Pier</td>\n",
       "    </tr>\n",
       "    <tr>\n",
       "      <th>3</th>\n",
       "      <td>A07807</td>\n",
       "      <td>Fan Pier</td>\n",
       "    </tr>\n",
       "    <tr>\n",
       "      <th>4</th>\n",
       "      <td>A07811</td>\n",
       "      <td>Fan Pier</td>\n",
       "    </tr>\n",
       "    <tr>\n",
       "      <th>5</th>\n",
       "      <td>A07811</td>\n",
       "      <td>Fan Pier</td>\n",
       "    </tr>\n",
       "    <tr>\n",
       "      <th>6</th>\n",
       "      <td>A07811</td>\n",
       "      <td>Fan Pier</td>\n",
       "    </tr>\n",
       "    <tr>\n",
       "      <th>7</th>\n",
       "      <td>A07812</td>\n",
       "      <td>Fan Pier</td>\n",
       "    </tr>\n",
       "    <tr>\n",
       "      <th>8</th>\n",
       "      <td>A07812</td>\n",
       "      <td>Fan Pier</td>\n",
       "    </tr>\n",
       "    <tr>\n",
       "      <th>9</th>\n",
       "      <td>A07812</td>\n",
       "      <td>Fan Pier</td>\n",
       "    </tr>\n",
       "  </tbody>\n",
       "</table>\n",
       "</div>"
      ],
      "text/plain": [
       "  bike_number   station\n",
       "0              Fan Pier\n",
       "1      A07800  Fan Pier\n",
       "2      A07800  Fan Pier\n",
       "3      A07807  Fan Pier\n",
       "4      A07811  Fan Pier\n",
       "5      A07811  Fan Pier\n",
       "6      A07811  Fan Pier\n",
       "7      A07812  Fan Pier\n",
       "8      A07812  Fan Pier\n",
       "9      A07812  Fan Pier"
      ]
     },
     "execution_count": 43,
     "metadata": {},
     "output_type": "execute_result"
    }
   ],
   "source": [
    "db_interact(query)"
   ]
  },
  {
   "cell_type": "markdown",
   "metadata": {},
   "source": [
    "---"
   ]
  },
  {
   "cell_type": "markdown",
   "metadata": {},
   "source": [
    "### Excercise "
   ]
  },
  {
   "cell_type": "markdown",
   "metadata": {},
   "source": [
    "Find all rides that starte at a station with 'Plaza' in the name."
   ]
  },
  {
   "cell_type": "code",
   "execution_count": 58,
   "metadata": {},
   "outputs": [],
   "source": [
    "query = \"\"\"\n",
    "\n",
    "\"\"\""
   ]
  },
  {
   "cell_type": "code",
   "execution_count": null,
   "metadata": {},
   "outputs": [],
   "source": [
    "db_interact(query)"
   ]
  },
  {
   "cell_type": "code",
   "execution_count": null,
   "metadata": {},
   "outputs": [],
   "source": []
  }
 ],
 "metadata": {
  "kernelspec": {
   "display_name": "Python 3",
   "language": "python",
   "name": "python3"
  },
  "language_info": {
   "codemirror_mode": {
    "name": "ipython",
    "version": 3
   },
   "file_extension": ".py",
   "mimetype": "text/x-python",
   "name": "python",
   "nbconvert_exporter": "python",
   "pygments_lexer": "ipython3",
   "version": "3.6.6"
  }
 },
 "nbformat": 4,
 "nbformat_minor": 2
}
